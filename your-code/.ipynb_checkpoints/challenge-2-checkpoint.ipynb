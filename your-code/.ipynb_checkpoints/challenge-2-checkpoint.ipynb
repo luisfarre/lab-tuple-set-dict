{
 "cells": [
  {
   "cell_type": "markdown",
   "metadata": {},
   "source": [
    "## Challenge 2: Sets\n",
    "\n",
    "There are a lot to learn about Python Sets and the information presented in the lesson is limited due to its length. To learn Python Sets in depth you are strongly encouraged to review the W3Schools tutorial on [Python Sets Examples and Methods](https://www.w3schools.com/python/python_sets.asp) before you work on this lab. Some difficult questions in this lab have their solutions in the W3Schools tutorial.\n",
    "\n",
    "#### First, import the Python `random` libary"
   ]
  },
  {
   "cell_type": "code",
   "execution_count": 17,
   "metadata": {},
   "outputs": [],
   "source": [
    "import random"
   ]
  },
  {
   "cell_type": "markdown",
   "metadata": {},
   "source": [
    "#### In the cell below, create a list named `sample_list_1` with 80 random values. \n",
    "\n",
    "Requirements:\n",
    "\n",
    "* Each value is an integer falling between 0 and 100.\n",
    "* Each value in the list is unique.\n",
    "\n",
    "Print `sample_list_1` to review its values\n",
    "\n",
    "*Hint: use `random.sample` ([reference](https://docs.python.org/3/library/random.html#random.sample)).*"
   ]
  },
  {
   "cell_type": "code",
   "execution_count": 18,
   "metadata": {},
   "outputs": [
    {
     "name": "stdout",
     "output_type": "stream",
     "text": [
      "[33, 31, 57, 84, 51, 47, 43, 5, 94, 8, 72, 73, 92, 12, 70, 97, 26, 19, 55, 63, 29, 76, 38, 23, 37, 64, 60, 9, 27, 11, 89, 44, 78, 83, 7, 90, 15, 42, 34, 69, 88, 96, 75, 81, 18, 2, 40, 71, 46, 25, 45, 58, 17, 54, 59, 49, 35, 41, 3, 68, 56, 98, 85, 79, 66, 28, 6, 0, 16, 48, 32, 62, 53, 82, 91, 1, 99, 86, 74, 67]\n",
      "80\n"
     ]
    }
   ],
   "source": [
    "# Your code here\n",
    "sample_list_1=random.sample(range(0,100),80)\n",
    "    \n",
    "print(sample_list_1)\n",
    "print(len(sample_list_1))"
   ]
  },
  {
   "cell_type": "markdown",
   "metadata": {},
   "source": [
    "#### Convert `sample_list_1` to a set called `set1`. Print the length of the set. Is its length still 80?"
   ]
  },
  {
   "cell_type": "code",
   "execution_count": 19,
   "metadata": {},
   "outputs": [
    {
     "name": "stdout",
     "output_type": "stream",
     "text": [
      "{0, 1, 2, 3, 5, 6, 7, 8, 9, 11, 12, 15, 16, 17, 18, 19, 23, 25, 26, 27, 28, 29, 31, 32, 33, 34, 35, 37, 38, 40, 41, 42, 43, 44, 45, 46, 47, 48, 49, 51, 53, 54, 55, 56, 57, 58, 59, 60, 62, 63, 64, 66, 67, 68, 69, 70, 71, 72, 73, 74, 75, 76, 78, 79, 81, 82, 83, 84, 85, 86, 88, 89, 90, 91, 92, 94, 96, 97, 98, 99}\n",
      "80\n"
     ]
    }
   ],
   "source": [
    "# Your code here\n",
    "\n",
    "set1= set(sample_list_1)\n",
    "print(set1)\n",
    "print(len(set1))"
   ]
  },
  {
   "cell_type": "markdown",
   "metadata": {},
   "source": [
    "#### Create another list named `sample_list_2` with 80 random values.\n",
    "\n",
    "Requirements:\n",
    "\n",
    "* Each value is an integer falling between 0 and 100.\n",
    "* The values in the list don't have to be unique.\n",
    "\n",
    "*Hint: Use a FOR loop.*"
   ]
  },
  {
   "cell_type": "code",
   "execution_count": 20,
   "metadata": {},
   "outputs": [
    {
     "name": "stdout",
     "output_type": "stream",
     "text": [
      "[51, 5, 81, 13, 35, 35, 3, 55, 63, 13, 41, 66, 11, 28, 14, 97, 33, 69, 15, 100, 79, 14, 2, 54, 81, 25, 31, 14, 74, 76, 27, 69, 69, 0, 73, 67, 52, 27, 25, 98, 84, 11, 75, 70, 13, 42, 92, 10, 21, 48, 30, 17, 64, 7, 39, 48, 50, 58, 36, 73, 50, 75, 21, 34, 96, 71, 94, 34, 37, 32, 6, 80, 81, 47, 16, 58, 54, 11, 57, 25]\n",
      "80\n"
     ]
    }
   ],
   "source": [
    "# Your code here\n",
    "sample_list_2=[]\n",
    "\n",
    "for i in range(80):\n",
    "    sample_list_2.append(random.randint(0,100))\n",
    "    \n",
    "print(sample_list_2)\n",
    "print(len(sample_list_2))"
   ]
  },
  {
   "cell_type": "markdown",
   "metadata": {},
   "source": [
    "#### Convert `sample_list_2` to a set called `set2`. Print the length of the set. Is its length still 80?"
   ]
  },
  {
   "cell_type": "code",
   "execution_count": 21,
   "metadata": {},
   "outputs": [
    {
     "name": "stdout",
     "output_type": "stream",
     "text": [
      "{0, 2, 3, 5, 6, 7, 10, 11, 13, 14, 15, 16, 17, 21, 25, 27, 28, 30, 31, 32, 33, 34, 35, 36, 37, 39, 41, 42, 47, 48, 50, 51, 52, 54, 55, 57, 58, 63, 64, 66, 67, 69, 70, 71, 73, 74, 75, 76, 79, 80, 81, 84, 92, 94, 96, 97, 98, 100}\n",
      "58\n"
     ]
    }
   ],
   "source": [
    "# Your code here\n",
    "\n",
    "set2= set(sample_list_2)\n",
    "print(set2)\n",
    "print(len(set2))"
   ]
  },
  {
   "cell_type": "markdown",
   "metadata": {},
   "source": [
    "#### Identify the elements present in `set1` but not in `set2`. Assign the elements to a new set named `set3`."
   ]
  },
  {
   "cell_type": "code",
   "execution_count": 22,
   "metadata": {},
   "outputs": [
    {
     "name": "stdout",
     "output_type": "stream",
     "text": [
      "{1, 8, 9, 12, 18, 19, 23, 26, 29, 38, 40, 43, 44, 45, 46, 49, 53, 56, 59, 60, 62, 68, 72, 78, 82, 83, 85, 86, 88, 89, 90, 91, 99}\n"
     ]
    }
   ],
   "source": [
    "# Your code here\n",
    "set3=set1-set2\n",
    "print(set3)"
   ]
  },
  {
   "cell_type": "markdown",
   "metadata": {},
   "source": [
    "#### Identify the elements present in `set2` but not in `set1`. Assign the elements to a new set named `set4`."
   ]
  },
  {
   "cell_type": "code",
   "execution_count": 23,
   "metadata": {},
   "outputs": [
    {
     "name": "stdout",
     "output_type": "stream",
     "text": [
      "{36, 100, 39, 10, 13, 14, 80, 50, 52, 21, 30}\n"
     ]
    }
   ],
   "source": [
    "# Your code here\n",
    "set4=set2-set1\n",
    "print(set4)"
   ]
  },
  {
   "cell_type": "markdown",
   "metadata": {},
   "source": [
    "#### Now Identify the elements shared between `set1` and `set2`. Assign the elements to a new set named `set5`."
   ]
  },
  {
   "cell_type": "code",
   "execution_count": 24,
   "metadata": {},
   "outputs": [
    {
     "name": "stdout",
     "output_type": "stream",
     "text": [
      "{0, 2, 3, 5, 6, 7, 11, 15, 16, 17, 25, 27, 28, 31, 32, 33, 34, 35, 37, 41, 42, 47, 48, 51, 54, 55, 57, 58, 63, 64, 66, 67, 69, 70, 71, 73, 74, 75, 76, 79, 81, 84, 92, 94, 96, 97, 98}\n"
     ]
    }
   ],
   "source": [
    "# Your code here\n",
    "set5=set1&set2\n",
    "print(set5)"
   ]
  },
  {
   "cell_type": "markdown",
   "metadata": {},
   "source": [
    "#### What is the relationship among the following values:\n",
    "\n",
    "* len(set1)\n",
    "* len(set2)\n",
    "* len(set3)\n",
    "* len(set4)\n",
    "* len(set5)\n",
    "\n",
    "Use a math formular to represent that relationship. Test your formular with Python code."
   ]
  },
  {
   "cell_type": "code",
   "execution_count": 26,
   "metadata": {},
   "outputs": [
    {
     "name": "stdout",
     "output_type": "stream",
     "text": [
      "80\n",
      "58\n",
      "33\n",
      "11\n",
      "47\n",
      "True\n",
      "True\n"
     ]
    }
   ],
   "source": [
    "# Your code here \n",
    "\n",
    "print(len(set1))\n",
    "print(len(set2))\n",
    "print(len(set3))\n",
    "print(len(set4))\n",
    "print(len(set5))\n",
    "\n",
    "print(len(set1)==len(set3)+len(set5))\n",
    "print(len(set2)==len(set4)+len(set5))"
   ]
  },
  {
   "cell_type": "markdown",
   "metadata": {},
   "source": [
    "#### Create an empty set called `set6`."
   ]
  },
  {
   "cell_type": "code",
   "execution_count": 27,
   "metadata": {},
   "outputs": [],
   "source": [
    "# Your code here\n",
    "set6=set()\n"
   ]
  },
  {
   "cell_type": "markdown",
   "metadata": {},
   "source": [
    "#### Add `set3` and `set5` to `set6` using the Python Set `update` method."
   ]
  },
  {
   "cell_type": "code",
   "execution_count": 28,
   "metadata": {},
   "outputs": [
    {
     "name": "stdout",
     "output_type": "stream",
     "text": [
      "{0, 1, 2, 3, 5, 6, 7, 8, 9, 11, 12, 15, 16, 17, 18, 19, 23, 25, 26, 27, 28, 29, 31, 32, 33, 34, 35, 37, 38, 40, 41, 42, 43, 44, 45, 46, 47, 48, 49, 51, 53, 54, 55, 56, 57, 58, 59, 60, 62, 63, 64, 66, 67, 68, 69, 70, 71, 72, 73, 74, 75, 76, 78, 79, 81, 82, 83, 84, 85, 86, 88, 89, 90, 91, 92, 94, 96, 97, 98, 99}\n"
     ]
    }
   ],
   "source": [
    "# Your code here\n",
    "set6.update(set3)\n",
    "set6.update(set5)\n",
    "print(set6)"
   ]
  },
  {
   "cell_type": "markdown",
   "metadata": {},
   "source": [
    "#### Check if `set1` and `set6` are equal."
   ]
  },
  {
   "cell_type": "code",
   "execution_count": 29,
   "metadata": {},
   "outputs": [
    {
     "name": "stdout",
     "output_type": "stream",
     "text": [
      "True\n"
     ]
    }
   ],
   "source": [
    "# Your code here\n",
    "print(set1==set6)"
   ]
  },
  {
   "cell_type": "markdown",
   "metadata": {},
   "source": [
    "#### Check if `set1` contains `set2` using the Python Set `issubset` method. Then check if `set1` contains `set3`.*"
   ]
  },
  {
   "cell_type": "code",
   "execution_count": 30,
   "metadata": {},
   "outputs": [
    {
     "name": "stdout",
     "output_type": "stream",
     "text": [
      "False\n",
      "True\n"
     ]
    }
   ],
   "source": [
    "# Your code here\n",
    "print(set2.issubset(set1))\n",
    "print(set3.issubset(set1))"
   ]
  },
  {
   "cell_type": "markdown",
   "metadata": {},
   "source": [
    "#### Using the Python Set `union` method, aggregate `set3`, `set4`, and `set5`. Then aggregate `set1` and `set2`. \n",
    "\n",
    "#### Check if the aggregated values are equal."
   ]
  },
  {
   "cell_type": "code",
   "execution_count": 32,
   "metadata": {},
   "outputs": [
    {
     "name": "stdout",
     "output_type": "stream",
     "text": [
      "True\n"
     ]
    }
   ],
   "source": [
    "# Your code here\n",
    "set7=set3.union(set4).union(set5)\n",
    "set8=set7.union(set1).union(set2)\n",
    "print(set7==set8)\n",
    "\n"
   ]
  },
  {
   "cell_type": "markdown",
   "metadata": {},
   "source": [
    "#### Using the `pop` method, remove the first element from `set1`."
   ]
  },
  {
   "cell_type": "code",
   "execution_count": 34,
   "metadata": {},
   "outputs": [
    {
     "data": {
      "text/plain": [
       "0"
      ]
     },
     "execution_count": 34,
     "metadata": {},
     "output_type": "execute_result"
    }
   ],
   "source": [
    "# Your code here \n",
    "#??????? pop removes random number\n",
    "\n",
    "set1.pop()\n"
   ]
  },
  {
   "cell_type": "markdown",
   "metadata": {},
   "source": [
    "#### Remove every element in the following list from `set1` if they are present in the set. Print the remaining elements.\n",
    "\n",
    "```\n",
    "list_to_remove = [1, 9, 11, 19, 21, 29, 31, 39, 41, 49, 51, 59, 61, 69, 71, 79, 81, 89, 91, 99]\n",
    "```"
   ]
  },
  {
   "cell_type": "code",
   "execution_count": 35,
   "metadata": {},
   "outputs": [
    {
     "name": "stdout",
     "output_type": "stream",
     "text": [
      "{2, 3, 5, 6, 7, 8, 12, 15, 16, 17, 18, 23, 25, 26, 27, 28, 32, 33, 34, 35, 37, 38, 40, 42, 43, 44, 45, 46, 47, 48, 53, 54, 55, 56, 57, 58, 60, 62, 63, 64, 66, 67, 68, 70, 72, 73, 74, 75, 76, 78, 82, 83, 84, 85, 86, 88, 90, 92, 94, 96, 97, 98}\n"
     ]
    }
   ],
   "source": [
    "# Your code here\n",
    "list_to_remove = [1, 9, 11, 19, 21, 29, 31, 39, 41, 49, 51, 59, 61, 69, 71, 79, 81, 89, 91, 99]\n",
    "\n",
    "for i in list_to_remove:\n",
    "    if i in set1:\n",
    "        set1.remove(i)\n",
    "\n",
    "print(set1)"
   ]
  },
  {
   "cell_type": "code",
   "execution_count": null,
   "metadata": {},
   "outputs": [],
   "source": []
  }
 ],
 "metadata": {
  "kernelspec": {
   "display_name": "Python 3",
   "language": "python",
   "name": "python3"
  },
  "language_info": {
   "codemirror_mode": {
    "name": "ipython",
    "version": 3
   },
   "file_extension": ".py",
   "mimetype": "text/x-python",
   "name": "python",
   "nbconvert_exporter": "python",
   "pygments_lexer": "ipython3",
   "version": "3.7.4"
  }
 },
 "nbformat": 4,
 "nbformat_minor": 2
}
